{
  "nbformat": 4,
  "nbformat_minor": 0,
  "metadata": {
    "colab": {
      "provenance": [],
      "authorship_tag": "ABX9TyMOAkAmGOhbVNFiMU0Hj0q0",
      "include_colab_link": true
    },
    "kernelspec": {
      "name": "python3",
      "display_name": "Python 3"
    },
    "language_info": {
      "name": "python"
    }
  },
  "cells": [
    {
      "cell_type": "markdown",
      "metadata": {
        "id": "view-in-github",
        "colab_type": "text"
      },
      "source": [
        "<a href=\"https://colab.research.google.com/github/Gibbsdavidl/stan-zoo/blob/main/single_sample_t_test.ipynb\" target=\"_parent\"><img src=\"https://colab.research.google.com/assets/colab-badge.svg\" alt=\"Open In Colab\"/></a>"
      ]
    },
    {
      "cell_type": "markdown",
      "source": [
        "# STAN ZOO\n",
        "\n",
        "## Y is independent of X\n",
        "\n",
        "### Parametric one sample T-test.\n",
        "### One number (the intercept) predicts Y."
      ],
      "metadata": {
        "id": "eDDGLf_TyLPb"
      }
    },
    {
      "cell_type": "code",
      "source": [
        "!pip install pystan"
      ],
      "metadata": {
        "id": "5FUv2-wOymUy"
      },
      "execution_count": null,
      "outputs": []
    },
    {
      "cell_type": "code",
      "source": [
        "import nest_asyncio\n",
        "nest_asyncio.apply()"
      ],
      "metadata": {
        "id": "CYZG7LdVKno8"
      },
      "execution_count": 24,
      "outputs": []
    },
    {
      "cell_type": "code",
      "source": [
        "import stan\n",
        "import numpy as np\n",
        "import matplotlib.pyplot as plt"
      ],
      "metadata": {
        "id": "0yNLhQP4zAwg"
      },
      "execution_count": 38,
      "outputs": []
    },
    {
      "cell_type": "markdown",
      "source": [
        "First to simulate some data."
      ],
      "metadata": {
        "id": "sszQOthYyvMC"
      }
    },
    {
      "cell_type": "code",
      "source": [
        "n = 1000\n",
        "y = np.random.default_rng().standard_t(10, size=n) + 3.0\n",
        "h = plt.hist(y, bins=20, density=True)"
      ],
      "metadata": {
        "colab": {
          "base_uri": "https://localhost:8080/",
          "height": 430
        },
        "id": "-0wGt91WyR5t",
        "outputId": "dff89422-a0fc-4719-da6b-e7fc58b5d695"
      },
      "execution_count": 53,
      "outputs": [
        {
          "output_type": "display_data",
          "data": {
            "text/plain": [
              "<Figure size 640x480 with 1 Axes>"
            ],
            "image/png": "[encoded data removed]"
          },
          "metadata": {}
        }
      ]
    },
    {
      "cell_type": "code",
      "source": [
        "code = '''\n",
        "data {\n",
        "  int<lower=0> N;\n",
        "  vector[N] y;\n",
        "}\n",
        "\n",
        "transformed data{\n",
        "  real y_mean;\n",
        "  y_mean = mean(y);\n",
        "}\n",
        "\n",
        "parameters {\n",
        "  real alpha;\n",
        "  real<lower=0> sigma;\n",
        "}\n",
        "\n",
        "model {\n",
        "  alpha ~ normal(y_mean, 10);\n",
        "  sigma ~ cauchy(0, 5);\n",
        "  y ~ normal(alpha, sigma);\n",
        "}\n",
        "'''"
      ],
      "metadata": {
        "id": "xGicXqJcIW9z"
      },
      "execution_count": 62,
      "outputs": []
    },
    {
      "cell_type": "code",
      "source": [
        "data = {'N':n, 'y':y}\n",
        "posterior = stan.build(code, data=data, random_seed=1)\n",
        "fit = posterior.sample(num_chains=4, num_samples=1000)"
      ],
      "metadata": {
        "colab": {
          "base_uri": "https://localhost:8080/"
        },
        "id": "7GnD_0iS1g4d",
        "outputId": "f7feab6a-3c20-403d-afe5-c1d5c81d412f"
      },
      "execution_count": 64,
      "outputs": [
        {
          "output_type": "stream",
          "name": "stdout",
          "text": [
            "Building...\n"
          ]
        },
        {
          "output_type": "stream",
          "name": "stderr",
          "text": [
            "\n",
            "Building: 38.1s, done.Messages from stanc:\n",
            "Warning: The parameter alpha has no priors. This means either no prior is\n",
            "    provided, or the prior(s) depend on data variables. In the later case,\n",
            "    this may be a false positive.\n",
            "Sampling:   0%\n",
            "Sampling:  25% (2000/8000)\n",
            "Sampling:  50% (4000/8000)\n",
            "Sampling:  75% (6000/8000)\n",
            "Sampling: 100% (8000/8000)\n",
            "Sampling: 100% (8000/8000), done.\n",
            "Messages received during sampling:\n",
            "  Gradient evaluation took 1.6e-05 seconds\n",
            "  1000 transitions using 10 leapfrog steps per transition would take 0.16 seconds.\n",
            "  Adjust your expectations accordingly!\n",
            "  Informational Message: The current Metropolis proposal is about to be rejected because of the following issue:\n",
            "  Exception: normal_lpdf: Scale parameter is 0, but must be positive! (in '/tmp/httpstan_idephxbv/model_e7d7jy5g.stan', line 20, column 2 to column 27)\n",
            "  If this warning occurs sporadically, such as for highly constrained variable types like covariance matrices, then the sampler is fine,\n",
            "  but if this warning occurs often then your model may be either severely ill-conditioned or misspecified.\n",
            "  Informational Message: The current Metropolis proposal is about to be rejected because of the following issue:\n",
            "  Exception: normal_lpdf: Scale parameter is 0, but must be positive! (in '/tmp/httpstan_idephxbv/model_e7d7jy5g.stan', line 20, column 2 to column 27)\n",
            "  If this warning occurs sporadically, such as for highly constrained variable types like covariance matrices, then the sampler is fine,\n",
            "  but if this warning occurs often then your model may be either severely ill-conditioned or misspecified.\n",
            "  Gradient evaluation took 2.3e-05 seconds\n",
            "  1000 transitions using 10 leapfrog steps per transition would take 0.23 seconds.\n",
            "  Adjust your expectations accordingly!\n",
            "  Gradient evaluation took 1e-05 seconds\n",
            "  1000 transitions using 10 leapfrog steps per transition would take 0.1 seconds.\n",
            "  Adjust your expectations accordingly!\n",
            "  Gradient evaluation took 1.2e-05 seconds\n",
            "  1000 transitions using 10 leapfrog steps per transition would take 0.12 seconds.\n",
            "  Adjust your expectations accordingly!\n"
          ]
        }
      ]
    },
    {
      "cell_type": "code",
      "source": [
        "alpha = fit[\"alpha\"]  # array of 4 chains"
      ],
      "metadata": {
        "id": "uqcjFG6MKY_i"
      },
      "execution_count": 65,
      "outputs": []
    },
    {
      "cell_type": "code",
      "source": [
        "plt.hist(alpha[0], bins=20, density=True)"
      ],
      "metadata": {
        "colab": {
          "base_uri": "https://localhost:8080/",
          "height": 607
        },
        "id": "wvgxTwCBTJ6_",
        "outputId": "46d58742-f38d-4e74-901b-2b8d823ea786"
      },
      "execution_count": 68,
      "outputs": [
        {
          "output_type": "execute_result",
          "data": {
            "text/plain": [
              "(array([ 0.01769754,  0.08848771,  0.31855576,  0.76099431,  1.66356896,\n",
              "         2.99088461,  4.81373145,  7.6099431 , 10.19378425, 12.70683522,\n",
              "        10.42385229,  8.01698657,  5.53933068,  3.0262797 ,  1.45119845,\n",
              "         0.8848771 ,  0.19467296,  0.01769754,  0.05309263,  0.01769754]),\n",
              " array([2.7961311 , 2.81025736, 2.82438361, 2.83850987, 2.85263612,\n",
              "        2.86676238, 2.88088863, 2.89501489, 2.90914115, 2.9232674 ,\n",
              "        2.93739366, 2.95151991, 2.96564617, 2.97977242, 2.99389868,\n",
              "        3.00802493, 3.02215119, 3.03627744, 3.0504037 , 3.06452995,\n",
              "        3.07865621]),\n",
              " <BarContainer object of 20 artists>)"
            ]
          },
          "metadata": {},
          "execution_count": 68
        },
        {
          "output_type": "display_data",
          "data": {
            "text/plain": [
              "<Figure size 640x480 with 1 Axes>"
            ],
            "image/png": "[encoded data removed]"
          },
          "metadata": {}
        }
      ]
    },
    {
      "cell_type": "code",
      "source": [
        "np.mean(alpha)"
      ],
      "metadata": {
        "colab": {
          "base_uri": "https://localhost:8080/"
        },
        "id": "uIfwTfEATarQ",
        "outputId": "0ab0f291-1fce-4632-f8a6-ccc7f2838950"
      },
      "execution_count": 67,
      "outputs": [
        {
          "output_type": "execute_result",
          "data": {
            "text/plain": [
              "2.9306896332039245"
            ]
          },
          "metadata": {},
          "execution_count": 67
        }
      ]
    },
    {
      "cell_type": "code",
      "source": [],
      "metadata": {
        "id": "7t6AWPUCUvgX"
      },
      "execution_count": null,
      "outputs": []
    }
  ]
}